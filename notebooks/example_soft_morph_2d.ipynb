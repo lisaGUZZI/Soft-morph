{
  "cells": [
    {
      "cell_type": "markdown",
      "metadata": {
        "colab_type": "text",
        "id": "view-in-github"
      },
      "source": [
        "<a href=\"https://colab.research.google.com/github/lisaGUZZI/Soft-morph/blob/main/notebooks/example_soft_morph_2d.ipynb\" target=\"_parent\"><img src=\"https://colab.research.google.com/assets/colab-badge.svg\" alt=\"Open In Colab\"/></a>"
      ]
    },
    {
      "cell_type": "markdown",
      "metadata": {},
      "source": [
        "# Example SoftMorphOperator2D"
      ]
    },
    {
      "cell_type": "code",
      "execution_count": null,
      "metadata": {},
      "outputs": [],
      "source": [
        "! git clone https://github.com/lisaGUZZI/Soft-morph \n",
        "%cd Soft-morph"
      ]
    },
    {
      "cell_type": "code",
      "execution_count": null,
      "metadata": {
        "id": "fhIU-kJtd63T"
      },
      "outputs": [],
      "source": [
        "import torch\n",
        "import numpy as np\n",
        "import matplotlib.pyplot as plt\n",
        "from scipy.ndimage import distance_transform_edt\n",
        "from PIL import Image\n",
        "from soft_morph import SoftSkeletonizer2D, SoftErosion2D, SoftDilation2D, SoftClosing2D, SoftOpening2D\n"
      ]
    },
    {
      "cell_type": "code",
      "execution_count": 2,
      "metadata": {
        "id": "ZazMNB9FeJQU"
      },
      "outputs": [],
      "source": [
        "DEVICE = torch.device(\"cuda\" if torch.cuda.is_available() else \"cpu\")"
      ]
    },
    {
      "cell_type": "code",
      "execution_count": 3,
      "metadata": {},
      "outputs": [],
      "source": [
        "# Function to import the data and convert to tensor\n",
        "def import_data(image_path):\n",
        "    image_np = np.ceil(np.array(Image.open(image_path).convert(\"L\"), dtype = np.int16)/255)\n",
        "    image_ts = torch.tensor(image_np, device=DEVICE).unsqueeze(0).unsqueeze(0)\n",
        "    return image_ts\n",
        "\n",
        "# Function to generate the probabilistic image\n",
        "def generate_probabilistic_image(binary_image, scaling_factor):\n",
        "    # Move the tensor back to CPU for NumPy operations\n",
        "    binary_image_cpu = binary_image.squeeze().cpu().numpy()\n",
        "\n",
        "    # Perform CPU operations using NumPy\n",
        "    distances_fg = distance_transform_edt(binary_image_cpu) * scaling_factor\n",
        "    distances_bg = distance_transform_edt(1 - binary_image_cpu) * scaling_factor\n",
        "    distance_map = distances_fg - distances_bg\n",
        "    \n",
        "    # Normalize the distance map\n",
        "    min_val = np.min(distance_map)\n",
        "    max_val = np.max(distance_map)\n",
        "    probabilistic_image = (distance_map - min_val) / (max_val - min_val)\n",
        "    \n",
        "    # Convert back to Torch tensor and move to the appropriate device (CPU or CUDA)\n",
        "    return (\n",
        "        torch.tensor(probabilistic_image, dtype=torch.float32, device=DEVICE).unsqueeze(0).unsqueeze(0),\n",
        "        distance_map,\n",
        "    )\n",
        "\n",
        "# Function to plot the morphological operations\n",
        "def makefigtable(listoutputs, row_titles, col_titles):\n",
        "    nbrows, nbcols = len(listoutputs), len(listoutputs[0])\n",
        "    # print(nbrows, nbcols)\n",
        "    fig, axes = plt.subplots(nrows=nbrows, ncols=nbcols, figsize=(12, 5), sharex=True, sharey=True)\n",
        "\n",
        "    for i in range(nbrows):\n",
        "        # print(i)\n",
        "        for j in range(nbcols):\n",
        "            # print(j)\n",
        "            listoutputs[i][j] = listoutputs[i][j].cpu().numpy()\n",
        "            axes[i, j].imshow(listoutputs[i][j], cmap=plt.cm.gray)\n",
        "            axes[i, j].axis('off')\n",
        "\n",
        "            # Set row titles\n",
        "            if j == 0:\n",
        "                # axes[i, j].set_ylabel(row_titles[i], fontsize=16, rotation=-90, ha='left', va='center')\n",
        "                axes[i, j].text(-0.2, 0.5, row_titles[i], fontsize=15, rotation=90, ha='center', va='center', transform=axes[i, j].transAxes)\n",
        "\n",
        "            # Set column titles\n",
        "            if i == 0:\n",
        "                axes[i, j].set_title(col_titles[j], fontsize=16)\n",
        "\n",
        "    fig.tight_layout()\n",
        "    plt.show()"
      ]
    },
    {
      "cell_type": "code",
      "execution_count": 4,
      "metadata": {},
      "outputs": [],
      "source": [
        "\n",
        "def simple_operation(image):\n",
        "    # Define filters\n",
        "    erode = SoftErosion2D(max_iter=1, connectivity=8)\n",
        "    erode.to(DEVICE)\n",
        "    dilate = SoftDilation2D(max_iter=2, connectivity=4)\n",
        "    dilate.to(DEVICE)\n",
        "    skeleton = SoftSkeletonizer2D(max_iter=5)\n",
        "    skeleton.to(DEVICE)\n",
        "    close = SoftClosing2D(max_iter=2, dilation_connectivity=8, erosion_connectivity=8)\n",
        "    close.to(DEVICE)\n",
        "    openn = SoftOpening2D(max_iter=2, dilation_connectivity=4, erosion_connectivity=4)\n",
        "    openn.to(DEVICE)\n",
        "\n",
        "    eroded = erode(image)\n",
        "    dilated = dilate(image)\n",
        "    skeletonized = skeleton(image)\n",
        "    closed = close(image)\n",
        "    opened = openn(image)\n",
        "    return [image.squeeze(), eroded.squeeze(), dilated.squeeze(), skeletonized.squeeze(), closed.squeeze(), opened.squeeze()]"
      ]
    },
    {
      "cell_type": "code",
      "execution_count": null,
      "metadata": {},
      "outputs": [],
      "source": [
        "binary_image = import_data(\"data/example_data.png\") # Import binary image\n",
        "probabilistic_image, dist_map = generate_probabilistic_image(binary_image, 0.05) # Create image with continuous values between 0 and 1\n",
        "\n",
        "# simple operation\n",
        "binary_results = simple_operation(binary_image)\n",
        "proba_results = simple_operation(probabilistic_image)\n",
        "col = [\"Image\", \"Erosion\", \"Dilation\", \"Skeletonization\", \"Closing\", \"Opening\"]\n",
        "row = [\"Binary\", \"Probabilistic\"]\n",
        "makefigtable([binary_results, proba_results],row, col)"
      ]
    },
    {
      "cell_type": "code",
      "execution_count": null,
      "metadata": {},
      "outputs": [],
      "source": []
    }
  ],
  "metadata": {
    "colab": {
      "authorship_tag": "ABX9TyM91dZqbcOAjG2Vc1fovuPV",
      "include_colab_link": true,
      "provenance": []
    },
    "kernelspec": {
      "display_name": "mainEnv",
      "language": "python",
      "name": "python3"
    },
    "language_info": {
      "codemirror_mode": {
        "name": "ipython",
        "version": 3
      },
      "file_extension": ".py",
      "mimetype": "text/x-python",
      "name": "python",
      "nbconvert_exporter": "python",
      "pygments_lexer": "ipython3",
      "version": "3.11.4"
    }
  },
  "nbformat": 4,
  "nbformat_minor": 0
}
