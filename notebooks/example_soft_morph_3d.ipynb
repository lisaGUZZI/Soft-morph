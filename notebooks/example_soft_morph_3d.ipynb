{
  "cells": [
    {
      "cell_type": "markdown",
      "metadata": {},
      "source": [
        "<a href=\"https://colab.research.google.com/github/lisaGUZZI/Soft-morph/blob/main/notebooks/example_soft_morph_3d.ipynb\" target=\"_parent\"><img src=\"https://colab.research.google.com/assets/colab-badge.svg\" alt=\"Open In Colab\"/></a>"
      ]
    },
    {
      "cell_type": "markdown",
      "metadata": {},
      "source": [
        "# Example SoftMorphOperator3D"
      ]
    },
    {
      "cell_type": "code",
      "execution_count": null,
      "metadata": {
        "colab": {
          "base_uri": "https://localhost:8080/"
        },
        "id": "B5nHuA5A9mXM",
        "outputId": "2e41f719-abc1-445c-8d1f-0acabdefe654"
      },
      "outputs": [],
      "source": [
        "! git clone https://github.com/lisaGUZZI/Soft-morph.git"
      ]
    },
    {
      "cell_type": "code",
      "execution_count": null,
      "metadata": {
        "colab": {
          "base_uri": "https://localhost:8080/"
        },
        "id": "7PKK31hv-Nl0",
        "outputId": "effb1550-0fc8-4831-dad5-defe21818d89"
      },
      "outputs": [],
      "source": [
        "%cd Soft-morph"
      ]
    },
    {
      "cell_type": "code",
      "execution_count": 5,
      "metadata": {
        "id": "vS0hwYdd-T-7"
      },
      "outputs": [],
      "source": [
        "import torch\n",
        "import torch.nn as nn\n",
        "import torch.nn.functional as F\n",
        "import numpy as np\n",
        "import matplotlib.pyplot as plt\n",
        "from scipy.ndimage import distance_transform_edt\n",
        "from PIL import Image"
      ]
    },
    {
      "cell_type": "code",
      "execution_count": 6,
      "metadata": {
        "id": "v4i1nkcb-qYh"
      },
      "outputs": [],
      "source": [
        "# Import classes\n",
        "from soft_morph import (\n",
        "    SoftSkeletonizer3D,\n",
        "    SoftErosion3D,\n",
        "    SoftDilation3D,\n",
        "    SoftClosing3D,\n",
        "    SoftOpening3D,\n",
        ")"
      ]
    },
    {
      "cell_type": "code",
      "execution_count": null,
      "metadata": {
        "colab": {
          "base_uri": "https://localhost:8080/"
        },
        "id": "4M8snFHh-r69",
        "outputId": "c5f7cf4a-51d9-4c7d-b9ab-1134fd5d5442"
      },
      "outputs": [],
      "source": [
        "DEVICE = torch.device(\"cuda\" if torch.cuda.is_available() else \"cpu\")\n",
        "print(DEVICE)"
      ]
    },
    {
      "cell_type": "code",
      "execution_count": 8,
      "metadata": {
        "id": "SlzDh4gE-wrU"
      },
      "outputs": [],
      "source": [
        "def simple_operation(image):\n",
        "    # Define filters\n",
        "    erode = SoftErosion3D(max_iter=1, connectivity=26)\n",
        "    erode.to(DEVICE)\n",
        "    dilate = SoftDilation3D(max_iter=2, connectivity=6)\n",
        "    dilate.to(DEVICE)\n",
        "    skeleton = SoftSkeletonizer3D(max_iter=15)\n",
        "    skeleton.to(DEVICE)\n",
        "    close = SoftClosing3D(max_iter=2, dilation_connectivity=18, erosion_connectivity=6)\n",
        "    close.to(DEVICE)\n",
        "    openn = SoftOpening3D(max_iter=1, dilation_connectivity=26, erosion_connectivity=26)\n",
        "    openn.to(DEVICE)\n",
        "\n",
        "    eroded = erode(image)\n",
        "    dilated = dilate(image)\n",
        "    skeletonized = skeleton(image)\n",
        "    closed = close(image)\n",
        "    opened = openn(image)\n",
        "    return [\n",
        "        image.squeeze(),\n",
        "        eroded.squeeze(),\n",
        "        dilated.squeeze(),\n",
        "        closed.squeeze(),\n",
        "        opened.squeeze(),\n",
        "        skeletonized.squeeze(),\n",
        "    ]"
      ]
    },
    {
      "cell_type": "code",
      "execution_count": null,
      "metadata": {
        "colab": {
          "base_uri": "https://localhost:8080/"
        },
        "id": "QG0gP0aF_ZWM",
        "outputId": "1f0b62a4-5330-4b3d-a18c-c3f70bb7a3ae"
      },
      "outputs": [],
      "source": [
        "data = np.load('data.npy')\n",
        "data.shape"
      ]
    },
    {
      "cell_type": "code",
      "execution_count": null,
      "metadata": {
        "colab": {
          "base_uri": "https://localhost:8080/"
        },
        "id": "0R7Y_sVl-5LA",
        "outputId": "0875e637-14bd-4b48-f040-0088eed3a75f"
      },
      "outputs": [],
      "source": [
        "binary_results = simple_operation(torch.tensor(data).to(DEVICE))"
      ]
    },
    {
      "cell_type": "code",
      "execution_count": null,
      "metadata": {
        "colab": {
          "base_uri": "https://localhost:8080/"
        },
        "id": "NgeSTh8nBTES",
        "outputId": "68707a05-7f9d-466f-b821-44437f63bafb"
      },
      "outputs": [],
      "source": [
        "torch.stack(binary_results).shape"
      ]
    },
    {
      "cell_type": "code",
      "execution_count": null,
      "metadata": {
        "id": "M8FmRkuwCFo9"
      },
      "outputs": [],
      "source": []
    }
  ],
  "metadata": {
    "accelerator": "GPU",
    "colab": {
      "gpuType": "T4",
      "provenance": []
    },
    "kernelspec": {
      "display_name": "Python 3",
      "name": "python3"
    },
    "language_info": {
      "name": "python"
    }
  },
  "nbformat": 4,
  "nbformat_minor": 0
}
