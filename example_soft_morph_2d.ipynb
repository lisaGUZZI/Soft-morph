{
  "nbformat": 4,
  "nbformat_minor": 0,
  "metadata": {
    "colab": {
      "provenance": [],
      "authorship_tag": "ABX9TyM91dZqbcOAjG2Vc1fovuPV",
      "include_colab_link": true
    },
    "kernelspec": {
      "name": "python3",
      "display_name": "Python 3"
    },
    "language_info": {
      "name": "python"
    }
  },
  "cells": [
    {
      "cell_type": "markdown",
      "metadata": {
        "id": "view-in-github",
        "colab_type": "text"
      },
      "source": [
        "<a href=\"https://colab.research.google.com/github/rtaiello/Soft-morph/blob/main/example_soft_morph_2d.ipynb\" target=\"_parent\"><img src=\"https://colab.research.google.com/assets/colab-badge.svg\" alt=\"Open In Colab\"/></a>"
      ]
    },
    {
      "cell_type": "code",
      "execution_count": null,
      "metadata": {
        "id": "fhIU-kJtd63T"
      },
      "outputs": [],
      "source": [
        "import torch\n",
        "import torch.nn as nn\n",
        "import torch.nn.functional as F\n",
        "import numpy as np\n",
        "import matplotlib.pyplot as plt\n",
        "from scipy.ndimage import distance_transform_edt\n",
        "from PIL import Image\n",
        "from soft_morph import SoftSkeletonizer, SoftErosion2D, SoftDilation2D, SoftClosing, SoftOpening\n"
      ]
    },
    {
      "cell_type": "code",
      "source": [
        "DEVICE = torch.device(\"cuda\" if torch.cuda.is_available() else \"cpu\")"
      ],
      "metadata": {
        "id": "ZazMNB9FeJQU"
      },
      "execution_count": null,
      "outputs": []
    },
    {
      "cell_type": "code",
      "source": [
        "\n",
        "# Function to import the data and convert to tensor\n",
        "def import_data(image_path):\n",
        "    image_np = np.ceil(np.array(Image.open(image_path).convert(\"L\"), dtype = np.int16)/255)\n",
        "    image_ts = torch.tensor(image_np, device=DEVICE).unsqueeze(0).unsqueeze(0)\n",
        "    return image_ts\n",
        "# Function\n",
        "def generate_probabilistic_image(binary_image, scaling_factor):\n",
        "    distances_fg = distance_transform_edt(binary_image) *scaling_factor\n",
        "    distances_bg = distance_transform_edt(1 - binary_image)*scaling_factor\n",
        "    distance_map = distances_fg - distances_bg\n",
        "    min_val = np.min(distance_map)\n",
        "    max_val = np.max(distance_map)\n",
        "    probabilistic_image = (distance_map - min_val) / (max_val - min_val)\n",
        "    return torch.tensor(probabilistic_image, dtype=torch.float32,device=DEVICE), distance_map\n",
        "\n",
        "def makefigtable(listoutputs, row_titles, col_titles):\n",
        "    nbrows, nbcols = len(listoutputs), len(listoutputs[0])\n",
        "    # print(nbrows, nbcols)\n",
        "    fig, axes = plt.subplots(nrows=nbrows, ncols=nbcols, figsize=(12, 5), sharex=True, sharey=True)\n",
        "\n",
        "    for i in range(nbrows):\n",
        "        # print(i)\n",
        "        for j in range(nbcols):\n",
        "            # print(j)\n",
        "            axes[i, j].imshow(listoutputs[i][j], cmap=plt.cm.gray)\n",
        "            axes[i, j].axis('off')\n",
        "\n",
        "            # Set row titles\n",
        "            if j == 0:\n",
        "                # axes[i, j].set_ylabel(row_titles[i], fontsize=16, rotation=-90, ha='left', va='center')\n",
        "                axes[i, j].text(-0.2, 0.5, row_titles[i], fontsize=15, rotation=90, ha='center', va='center', transform=axes[i, j].transAxes)\n",
        "\n",
        "            # Set column titles\n",
        "            if i == 0:\n",
        "                axes[i, j].set_title(col_titles[j], fontsize=16)\n",
        "\n",
        "    fig.tight_layout()\n",
        "    plt.show()\n",
        "\n",
        "\n",
        "def simple_operation(image):\n",
        "    # Define filters\n",
        "    erode = SoftErosion2D(max_iter=1, connectivity=8)\n",
        "    erode.to(DEVICE)\n",
        "    dilate = SoftDilation2D(max_iter=2, connectivity=4)\n",
        "    dilate.to(DEVICE)\n",
        "    skeleton = SoftSkeletonizer(max_iter=5)\n",
        "    skeleton.to(DEVICE)\n",
        "    close = SoftClosing(max_iter=2, dilation_connectivity=8, erosion_connectivity=8)\n",
        "    close.to(DEVICE)\n",
        "    openn = SoftOpening(max_iter=2, dilation_connectivity=4, erosion_connectivity=4)\n",
        "    openn.to(DEVICE)\n",
        "\n",
        "    eroded = erode(image)\n",
        "    dilated = dilate(image)\n",
        "    skeletonized = skeleton(image)\n",
        "    closed = close(image)\n",
        "    opened = openn(image)\n",
        "    return [image.squeeze(), eroded.squeeze(), dilated.squeeze(), skeletonized.squeeze(), closed.squeeze(), opened.squeeze()]\n",
        "\n",
        "def main():\n",
        "    # Import data\n",
        "    binary_image = import_data(\"data/example_data.png\") # Import binary image\n",
        "    probabilistic_image, dist_map = generate_probabilistic_image(binary_image, 0.05) # Create image with continuous values between 0 and 1\n",
        "\n",
        "    # simple operation\n",
        "    binary_results = simple_operation(binary_image)\n",
        "    proba_results = simple_operation(probabilistic_image)\n",
        "    col = [\"Image\", \"Erosion\", \"Dilation\", \"Skeletonization\", \"Closing\", \"Opening\"]\n",
        "    row = [\"Binary\", \"Probabilistic\"]\n",
        "    makefigtable([binary_results, proba_results],row, col)\n",
        ""
      ],
      "metadata": {
        "id": "_cvAiPtDeLVB"
      },
      "execution_count": null,
      "outputs": []
    }
  ]
}